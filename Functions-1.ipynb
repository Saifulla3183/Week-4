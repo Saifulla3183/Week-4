{
 "cells": [
  {
   "cell_type": "markdown",
   "id": "bc42f0a0-a94d-449c-ab9e-91440b417c2b",
   "metadata": {},
   "source": [
    "# Functions\n",
    "If a group of statements are repeatedly required then it is not recommended to write these statements every time separately. We have to define these statements as a single unit and we can call that unit any number of times based on our requirement without rewriting. This unit is nothing but function. \n",
    "- The main advantage of functions is Code Reusability."
   ]
  },
  {
   "cell_type": "code",
   "execution_count": 1,
   "id": "393195f1-3222-4bef-b2aa-819ae7cc5c03",
   "metadata": {},
   "outputs": [
    {
     "name": "stdout",
     "output_type": "stream",
     "text": [
      "The Sum :  30\n",
      "The Difference :  10\n",
      "The Product :  200\n",
      "The Sum :  300\n",
      "The Difference :  100\n",
      "The Product :  20000\n",
      "The Sum :  3000\n",
      "The Difference :  1000\n",
      "The Product :  2000000\n"
     ]
    }
   ],
   "source": [
    "# Example without using function\n",
    "a = 20 \n",
    "b = 10 \n",
    "print('The Sum : ', a + b) \n",
    "print('The Difference : ', a - b) \n",
    "print('The Product : ', a * b) \n",
    "a = 200 \n",
    "b = 100 \n",
    "print('The Sum : ', a + b) \n",
    "print('The Difference : ', a - b) \n",
    "print('The Product : ', a * b) \n",
    "a = 2000 \n",
    "b = 1000 \n",
    "print('The Sum : ', a + b) \n",
    "print('The Difference : ', a - b) \n",
    "print('The Product : ', a * b) "
   ]
  },
  {
   "cell_type": "code",
   "execution_count": 4,
   "id": "b8965422-55b7-4dbc-8ca2-b50e8d9c1b08",
   "metadata": {},
   "outputs": [
    {
     "name": "stdout",
     "output_type": "stream",
     "text": [
      "The Sum :  30\n",
      "The Difference :  10\n",
      "The Product :  200\n",
      "The Sum :  300\n",
      "The Difference :  100\n",
      "The Product :  20000\n",
      "The Sum :  3000\n",
      "The Difference :  1000\n",
      "The Product :  2000000\n"
     ]
    }
   ],
   "source": [
    "# Example using Function\n",
    "def calculate(a, b): \n",
    "    print('The Sum : ', a + b) \n",
    "    print('The Difference : ', a - b)  \n",
    "    print('The Product : ', a * b) \n",
    "calculate(20,10)    \n",
    "calculate(200,100) \n",
    "calculate(2000,1000) "
   ]
  },
  {
   "cell_type": "markdown",
   "id": "48e71190-c3cd-4cb7-bde5-9db48c7ace10",
   "metadata": {},
   "source": [
    "# Types of functions\n",
    "1. Built in Functions \n",
    "2. User Defined Functions \n",
    "# 1. Built in Functions \n",
    "The functions which are coming along with Python software automatically are called built in functions (or) pre-defined functions. \n",
    "- Eg: \n",
    "- id()      type()      input()      eval() etc..\n",
    "# 2. User Defined Functions: \n",
    "The functions which are developed by programmer explicitly according to his/her business requirements are called user defined functions."
   ]
  },
  {
   "cell_type": "code",
   "execution_count": 5,
   "id": "cd891e2a-b604-4371-88dc-c0af94d5a3d2",
   "metadata": {},
   "outputs": [
    {
     "name": "stdout",
     "output_type": "stream",
     "text": [
      "Hello Good Morning\n",
      "Hello Good Morning\n",
      "Hello Good Morning\n"
     ]
    }
   ],
   "source": [
    "# Example probelm\n",
    "def wish(): \n",
    "    print(\"Hello Good Morning\") \n",
    "wish() \n",
    "wish() \n",
    "wish()"
   ]
  },
  {
   "cell_type": "markdown",
   "id": "0d832578-f1af-477b-be36-91e1286961f6",
   "metadata": {},
   "source": [
    "# Parameters or Arguments: \n",
    "- Parameters are inputs to the function. \n",
    "- If a function contains parameters, then at the time of calling, compulsory we should provide values, otherwise, we will get error.\n",
    "# Types of Parameters in Python: \n",
    "# 1. Positional Parameters: \n",
    "- In the case of positional arguments, number of arguments must be same. \n",
    "- In the case of positional arguments, order of the arguments is important. \n",
    "# 2. Keyword (i.e., Parameter name) Parameters: \n",
    "- In the case of keyword arguments, order of the arguments is not important. \n",
    "- In the case of keyword arguments, number of arguments must be same.\n",
    "# 3. Default Parameters: \n",
    "- You can define default value for the arguments. \n",
    "- If you are not passing any argument, then default values by default will be considered. \n",
    "- After default arguments you should not take normal arguments. (i.e., Default arguments you need to take at last) \n",
    "# 4. Variable length Parameters: \n",
    "- Sometimes we can pass variable number of arguments to our function, such type of arguments are called variable length arguments. \n",
    "- We can declare a variable length argument with * symbol as follows: \n",
    "- def f1(*n): \n",
    "- We can call this function by passing any number of arguments including zero number. Internally all these values represented in the form of tuple."
   ]
  },
  {
   "cell_type": "code",
   "execution_count": 6,
   "id": "72fdf8ef-4b1d-47f3-b3b7-f018c57ea9f7",
   "metadata": {},
   "outputs": [
    {
     "name": "stdout",
     "output_type": "stream",
     "text": [
      "Hello Saif  Good Morning\n",
      "Hello Sohail  Good Morning\n"
     ]
    }
   ],
   "source": [
    "# Example Write a function to take name of the student as input and print wish message by name. \n",
    "def wish(name): \n",
    "    print(\"Hello\",name,\" Good Morning\") \n",
    "wish(\"Saif\") \n",
    "wish(\"Sohail\")"
   ]
  },
  {
   "cell_type": "code",
   "execution_count": 7,
   "id": "395a7f45-5f14-4542-9361-e5b691a355ab",
   "metadata": {},
   "outputs": [
    {
     "name": "stdout",
     "output_type": "stream",
     "text": [
      "The Square of 4 is 16\n",
      "The Square of 5 is 25\n",
      "The Square of 7 is 49\n"
     ]
    }
   ],
   "source": [
    "# Example Write a function to take number as input and print its square value.  \n",
    "def squareIt(number): \n",
    "    print(\"The Square of\",number,\"is\", number*number) \n",
    "squareIt(4) \n",
    "squareIt(5) \n",
    "squareIt(7)"
   ]
  }
 ],
 "metadata": {
  "kernelspec": {
   "display_name": "Python 3 (ipykernel)",
   "language": "python",
   "name": "python3"
  },
  "language_info": {
   "codemirror_mode": {
    "name": "ipython",
    "version": 3
   },
   "file_extension": ".py",
   "mimetype": "text/x-python",
   "name": "python",
   "nbconvert_exporter": "python",
   "pygments_lexer": "ipython3",
   "version": "3.13.4"
  }
 },
 "nbformat": 4,
 "nbformat_minor": 5
}
