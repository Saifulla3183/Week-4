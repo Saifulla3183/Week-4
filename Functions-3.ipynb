{
 "cells": [
  {
   "cell_type": "markdown",
   "id": "c176328f-b562-4ff4-8feb-ad0cc4f1a34f",
   "metadata": {},
   "source": [
    "# Key Point 1: \n",
    "- We can mix variable length arguments with positional arguments. \n",
    "- You can take positional arguments and variable length arguments simultaneously. "
   ]
  },
  {
   "cell_type": "code",
   "execution_count": 1,
   "id": "b4f778e5-44d7-4a51-a5b2-239c2f0d0ba8",
   "metadata": {},
   "outputs": [
    {
     "name": "stdout",
     "output_type": "stream",
     "text": [
      "The Sum by Roshan : 100\n",
      "The Sum by Saifulla : 60\n",
      "The Sum by Kaif : 30\n",
      "The Sum by Sohail : 10\n",
      "The Sum by Saif : 0\n"
     ]
    }
   ],
   "source": [
    "# Example\n",
    "def sum(name,*n): \n",
    "    result =0 \n",
    "    for x in n: \n",
    "        result = result + x \n",
    "    print(\"The Sum by\",name,\":\", result) \n",
    "sum('Roshan',10,20,30,40) \n",
    "sum('Saifulla',10,20,30) \n",
    "sum('Kaif',10,20) \n",
    "sum('Sohail',10) \n",
    "sum('Saif') "
   ]
  },
  {
   "cell_type": "code",
   "execution_count": 2,
   "id": "ed39baa8-e63d-43f5-ac54-a1e38a0f45ff",
   "metadata": {},
   "outputs": [
    {
     "name": "stdout",
     "output_type": "stream",
     "text": [
      "10\n",
      "10\n",
      "20\n",
      "30\n",
      "40\n",
      "10\n",
      "A\n",
      "30\n",
      "B\n"
     ]
    }
   ],
   "source": [
    "# Example\n",
    "def f1(n1,*s): \n",
    "    print(n1) \n",
    "    for s1 in s: \n",
    "        print(s1) \n",
    "f1(10) \n",
    "f1(10,20,30,40) \n",
    "f1(10,\"A\",30,\"B\") "
   ]
  },
  {
   "cell_type": "markdown",
   "id": "17f321fd-5a54-4cde-8ad8-72c8cf896fb2",
   "metadata": {},
   "source": [
    "# Conclusion: \n",
    "- After variable length arguments, if you are taking any other argument, then we have to provide values as key word arguments only. \n",
    "- If you pass first normal argument and then variable arguments, then there is no rule to follow. It works correctly. "
   ]
  },
  {
   "cell_type": "markdown",
   "id": "6a165e75-dcea-45e6-a14f-53f675ea469e",
   "metadata": {},
   "source": [
    "# Key Point 2: \n",
    "Keyword variable length arguments : \n",
    "- Now, Suppose if we want to pass any number of keyword arguments to a function, compulsorily we have to identify the difference with the above case (i.e., Passing of any number of positional arguments). \n",
    "- We can declare key word variable length arguments also. For this we have to use **. \n",
    "- We can call this function by passing any number of keyword arguments. Internally these keyword arguments will be stored inside a dictionary. "
   ]
  },
  {
   "cell_type": "code",
   "execution_count": 3,
   "id": "4d2fe9a2-21d3-4fe5-b108-d0e207f64e97",
   "metadata": {},
   "outputs": [
    {
     "name": "stdout",
     "output_type": "stream",
     "text": [
      "n1 = 10\n",
      "n2 = 20\n",
      "n3 = 30\n",
      "rno = 100\n",
      "name = Saif\n",
      "marks = 70\n",
      "subject = Python\n"
     ]
    }
   ],
   "source": [
    "# Example\n",
    "def display(**kwargs): \n",
    "    for k,v in kwargs.items():  # Did not understand why here for loop is using?\n",
    "        print(k,\"=\",v)          \n",
    "display(n1=10,n2=20,n3=30) \n",
    "display(rno=100,name=\"Saif\",marks=70,subject=\"Python\")"
   ]
  },
  {
   "cell_type": "markdown",
   "id": "0d6f05b0-5929-4622-9fd0-a09de0195c01",
   "metadata": {},
   "source": [
    "# Function vs Module vs Package vs Library \n",
    "1. A group of lines with some name is called a function. \n",
    "2. A group of functions saved to a file , is called Module. \n",
    "3. A group of Modules is nothing but Package. \n",
    "4. A group of related packages is nothing but Library."
   ]
  },
  {
   "cell_type": "markdown",
   "id": "be3b46a3-2f1d-4302-84fe-94d1b45a1fac",
   "metadata": {},
   "source": [
    "# Types of Variables: \n",
    "Python supports 2 types of variables. \n",
    "1. Global Variables \n",
    "2. Local Variables \n",
    "# 1. Global Variables \n",
    "- The variables which are declared outside of function are called global variables. \n",
    "- These variables can be accessed in all functions of that module."
   ]
  },
  {
   "cell_type": "code",
   "execution_count": 5,
   "id": "0d04f82b-ed90-4a94-8d22-bf46948ec27f",
   "metadata": {},
   "outputs": [
    {
     "name": "stdout",
     "output_type": "stream",
     "text": [
      "20\n",
      "20\n"
     ]
    }
   ],
   "source": [
    "# Example\n",
    "a = 10     # It is called globle varibale because we are assigining a value to a variable outside the function\n",
    "\n",
    "def f1():   # It is a local variable because we are assigining a value to a variable inside the function(f1)\n",
    "    a = 20\n",
    "    print(a)\n",
    "def f2():\n",
    "    b = 20\n",
    "    print(b)\n",
    "f1()\n",
    "f2()"
   ]
  },
  {
   "cell_type": "markdown",
   "id": "fa1ae762-8bf1-4590-bec8-d4347b4e28d6",
   "metadata": {},
   "source": [
    "Suppose our requirement is, we don't want local variable. Can you please refer the local variable as the global variable only.  \n",
    "# How you can do that? \n",
    "For that, one special keyword is used, called as global. \n",
    "# global keyword: \n",
    "We can use global keyword for the following 2 purposes: \n",
    "1. To declare global variables explicitly inside function. \n",
    "2. To make global variable available to the function so that we can perform required modifications."
   ]
  },
  {
   "cell_type": "code",
   "execution_count": 6,
   "id": "388ca38d-16cf-4e41-b1dd-45b5f23a4ff9",
   "metadata": {},
   "outputs": [
    {
     "name": "stdout",
     "output_type": "stream",
     "text": [
      "777\n",
      "10\n"
     ]
    }
   ],
   "source": [
    "# Example\n",
    "a=10 \n",
    "def f1(): \n",
    "    a=777 \n",
    "    print(a) \n",
    "def f2(): \n",
    "    print(a) \n",
    "f1() \n",
    "f2()"
   ]
  },
  {
   "cell_type": "code",
   "execution_count": 7,
   "id": "0cb938c2-714a-4641-9d7d-404c67da81cc",
   "metadata": {},
   "outputs": [
    {
     "name": "stdout",
     "output_type": "stream",
     "text": [
      "777\n",
      "777\n"
     ]
    }
   ],
   "source": [
    "# Example\n",
    "a=10 \n",
    "def f1(): \n",
    "    global a  # To bring global variable to the function for required modifications. \n",
    "    a=777      # We are changing the value of the local variable. \n",
    "    print(a) \n",
    "def f2(): \n",
    "    print(a) \n",
    "f1() \n",
    "f2()"
   ]
  },
  {
   "cell_type": "code",
   "execution_count": 10,
   "id": "6e998ce2-8b13-43c8-96d0-68a824c8a68e",
   "metadata": {},
   "outputs": [
    {
     "name": "stdout",
     "output_type": "stream",
     "text": [
      "10\n",
      "10\n"
     ]
    }
   ],
   "source": [
    "# Example\n",
    "def f1():\n",
    "    global x\n",
    "    x = 10\n",
    "    print(x)\n",
    "def f2():\n",
    "    print(x)\n",
    "f1()\n",
    "f2()"
   ]
  },
  {
   "cell_type": "code",
   "execution_count": 11,
   "id": "a719ebaa-bfed-4f5b-9169-ac728c916cbd",
   "metadata": {},
   "outputs": [
    {
     "name": "stdout",
     "output_type": "stream",
     "text": [
      "f1 : 888\n",
      "f2 : 999\n"
     ]
    }
   ],
   "source": [
    "# Different example\n",
    "def f1(): \n",
    "    global a \n",
    "    a = 888 \n",
    "    print('f1 :',a) \n",
    "def f2(): \n",
    "    global a \n",
    "    a=999    \n",
    "    print('f2 :',a) \n",
    "f1() \n",
    "f2() "
   ]
  },
  {
   "cell_type": "code",
   "execution_count": 12,
   "id": "ac99e81d-7232-49f1-81ff-6bdcf81f7906",
   "metadata": {},
   "outputs": [
    {
     "name": "stdout",
     "output_type": "stream",
     "text": [
      "f3 : 999\n",
      "f2 : 999\n",
      "f1 : 888\n"
     ]
    }
   ],
   "source": [
    "# Example\n",
    "def f1(): \n",
    "    global a \n",
    "    a = 888 \n",
    "    print('f1 :',a) \n",
    "def f2(): \n",
    "    global a \n",
    "    a=999 \n",
    "    print('f2 :',a) \n",
    "def f3(): \n",
    "    print('f3 :',a) \n",
    "f3() \n",
    "f2() \n",
    "f1() "
   ]
  },
  {
   "cell_type": "markdown",
   "id": "8149fe43-034c-4878-a8bc-f67378cff4bd",
   "metadata": {},
   "source": [
    "# Recursive Functions\n",
    "A function that calls itself is known as Recursive Function. \n",
    "# Example\n",
    "factorial(3) =3*factorial(2) \n",
    "             =3*2*factorial(1) \n",
    "             =3*2*1*factorial(0) \n",
    "             =3*2*1*1 =6\n",
    "# factorial(n)= n*factorial(n-1) \n",
    "The main advantages of recursive functions are:  \n",
    "1. We can reduce length of the code and improves readability. \n",
    "2. We can solve complex problems very easily. For example, Towers of Hanoi, Ackerman's Problem etc., "
   ]
  },
  {
   "cell_type": "code",
   "execution_count": 13,
   "id": "ab5c4c5a-2a66-4ae8-ac0f-d97464a64554",
   "metadata": {},
   "outputs": [
    {
     "name": "stdout",
     "output_type": "stream",
     "text": [
      "Factorial of 0 is : 1\n",
      "Factorial of 4 is : 24\n",
      "Factorial of 5 is : 120\n",
      "Factorial of 40 is : 815915283247897734345611269596115894272000000000\n"
     ]
    }
   ],
   "source": [
    "# Example Factorial using Recursion\n",
    "def factorial(n): \n",
    "    if n==0: \n",
    "        result=1 \n",
    "    else: \n",
    "        result=n*factorial(n-1) \n",
    "    return result \n",
    "print(\"Factorial of 0 is :\",factorial(0)) \n",
    "print(\"Factorial of 4 is :\",factorial(4)) \n",
    "print(\"Factorial of 5 is :\",factorial(5)) \n",
    "print(\"Factorial of 40 is :\",factorial(40))"
   ]
  },
  {
   "cell_type": "markdown",
   "id": "3b2c05fa-dfb2-45cf-b274-25f233ef590d",
   "metadata": {},
   "source": [
    "# Anonymous Functions \n",
    "- Sometimes we can declare a function without any name, such type of nameless functions are called anonymous functions or lambda functions. \n",
    "- The main purpose of anonymous function is just for instant use(i.e., for one time usage).\n",
    "# Normal Function: \n",
    "We can define by using def keyword. \n",
    "-     def squareIt(n): \n",
    "        return n*n \n",
    "# lambda Function: \n",
    "We can define by using lambda keyword \n",
    "-     lambda n:n*n\n",
    "# Syntax of lambda Function: \n",
    "-     lambda argument_list : expression\n",
    "  "
   ]
  },
  {
   "cell_type": "code",
   "execution_count": 15,
   "id": "107f1e9c-e5f5-47db-8f6d-db0023086f52",
   "metadata": {},
   "outputs": [
    {
     "name": "stdout",
     "output_type": "stream",
     "text": [
      "The Square of 4 is : 16\n",
      "The Square of 5 is : 25\n"
     ]
    }
   ],
   "source": [
    "# Write a program to create a lambda function to find square of given number. \n",
    "s = lambda n:n*n \n",
    "print(\"The Square of 4 is :\",s(4)) \n",
    "print(\"The Square of 5 is :\",s(5))"
   ]
  },
  {
   "cell_type": "code",
   "execution_count": 16,
   "id": "4b79e55b-4cf0-46b8-af39-2f6adceff41d",
   "metadata": {},
   "outputs": [
    {
     "name": "stdout",
     "output_type": "stream",
     "text": [
      "The Sum of 10,20 is: 30\n",
      "The Sum of 100,200 is: 300\n"
     ]
    }
   ],
   "source": [
    "# Write a program to create a Lambda function to find sum of 2 given numbers. \n",
    "s=lambda a,b:a+b \n",
    "print(\"The Sum of 10,20 is:\",s(10,20)) \n",
    "print(\"The Sum of 100,200 is:\",s(100,200))"
   ]
  },
  {
   "cell_type": "code",
   "execution_count": 17,
   "id": "df62ef66-ea9a-40c5-a136-88f953061a9b",
   "metadata": {},
   "outputs": [
    {
     "name": "stdout",
     "output_type": "stream",
     "text": [
      "The Biggest of 10,20 is: 20\n",
      "The Biggest of 100,200 is: 200\n"
     ]
    }
   ],
   "source": [
    "# .Write a program to create a Lambda Function to find biggest of given values. \n",
    "s=lambda a,b:a if a>b else b \n",
    "print(\"The Biggest of 10,20 is:\",s(10,20)) \n",
    "print(\"The Biggest of 100,200 is:\",s(100,200))"
   ]
  },
  {
   "cell_type": "markdown",
   "id": "d22812a7-e6aa-4d7a-b23a-2f09ad94c6cd",
   "metadata": {},
   "source": [
    "# Note: \n",
    "- Lambda Function internally returns expression value and we are not required to write return statement explicitly. \n",
    "- Sometimes we can pass a function as argument to another function. In such cases lambda functions are best choice. \n",
    "- We can use lambda functions very commonly with filter(),map() and reduce() functions, because these functions expect function as argument."
   ]
  },
  {
   "cell_type": "markdown",
   "id": "3a350e26-03c3-41de-a2f7-a60f699af203",
   "metadata": {},
   "source": [
    "# 1. filter() function: \n",
    "- We can use filter() function to filter values from the given sequence based on some condition. \n",
    "- For example, we have 20 numbers and if we want to retrieve only even numbers from them. \n",
    "# Syntax: \n",
    "filter( function, sequence) \n",
    "- Where, - function argument is responsible to perform conditional check. - sequence can be list or tuple or string."
   ]
  },
  {
   "cell_type": "code",
   "execution_count": 19,
   "id": "12c99e9c-604d-423a-8839-1f5bcdb6f718",
   "metadata": {},
   "outputs": [
    {
     "name": "stdout",
     "output_type": "stream",
     "text": [
      "[0, 10, 20, 30]\n",
      "[0, 10, 20, 30]\n",
      "[5, 15, 25]\n"
     ]
    }
   ],
   "source": [
    "# Program to filter only even numbers from the list by using filter() function. \n",
    "# Without lambda Function: \n",
    "def isEven(x): \n",
    "    if x%2==0: \n",
    "        return True \n",
    "    else: \n",
    "        return False \n",
    "l=[0,5,10,15,20,25,30] \n",
    "l1=list(filter(isEven,l)) \n",
    "print(l1) \n",
    "\n",
    "# With lambda Function: \n",
    "l=[0,5,10,15,20,25,30] \n",
    "l1=list(filter(lambda x:x%2==0,l)) # Did not understand these concept\n",
    "print(l1)          \n",
    "l2=list(filter(lambda x:x%2!=0,l)) \n",
    "print(l2) "
   ]
  },
  {
   "cell_type": "markdown",
   "id": "25c383a2-3b56-4b40-a04f-8d1745360c62",
   "metadata": {},
   "source": [
    "# 2. map() function: \n",
    "For every element present in the given sequence, apply some functionality and generate new element with the required modification. For thisrequirement we should go for map() function. \n",
    "# Syntax: \n",
    "map( function, sequence) \n",
    "- The function can be applied on each element of sequence and generates new sequence. "
   ]
  },
  {
   "cell_type": "code",
   "execution_count": 22,
   "id": "a814e88a-d227-4ae4-83fb-c9f180a0ff34",
   "metadata": {},
   "outputs": [
    {
     "name": "stdout",
     "output_type": "stream",
     "text": [
      "[2, 4, 6, 8, 10]\n",
      "[2, 4, 6, 8, 10]\n"
     ]
    }
   ],
   "source": [
    "# For every element present in the list perform double and generate new list of doubles. \n",
    "#Without lambda \n",
    "l=[1,2,3,4,5] \n",
    "def doubleIt(x): \n",
    "    return 2*x \n",
    "l1=list(map( doubleIt, l)) \n",
    "print(l1) \n",
    "\n",
    "# With lambda \n",
    "l=[1,2,3,4,5] \n",
    "l1=list(map(lambda x:2*x,l)) # Did not understand these concept\n",
    "print(l1) "
   ]
  },
  {
   "cell_type": "code",
   "execution_count": 23,
   "id": "c1b20416-25a6-4dc0-88f4-ef432317f933",
   "metadata": {},
   "outputs": [
    {
     "name": "stdout",
     "output_type": "stream",
     "text": [
      "[1, 4, 9, 16, 25]\n"
     ]
    }
   ],
   "source": [
    "#  Find square of given numbers using map() function. \n",
    "l=[1,2,3,4,5] \n",
    "l1=list(map(lambda x:x*x,l)) \n",
    "print(l1)"
   ]
  },
  {
   "cell_type": "markdown",
   "id": "4417b356-9e1f-4f5b-8f95-5bc5fd60c029",
   "metadata": {},
   "source": [
    "# 3. reduce() function: \n",
    "- reduce() function reduces sequence of elements into a single element by applying the specified function. \n",
    "# Syntax: \n",
    "reduce( function, sequence) \n",
    "# Note : \n",
    "- reduce() function present in functools module and hence we should write import statement."
   ]
  },
  {
   "cell_type": "code",
   "execution_count": 24,
   "id": "69969f1f-9667-46d1-8d0c-182a0cc61e6a",
   "metadata": {},
   "outputs": [
    {
     "name": "stdout",
     "output_type": "stream",
     "text": [
      "150\n"
     ]
    }
   ],
   "source": [
    "# Example\n",
    "from functools import * \n",
    "l=[10,20,30,40,50] \n",
    "result=reduce(lambda x,y:x+y,l) \n",
    "print(result)"
   ]
  },
  {
   "cell_type": "code",
   "execution_count": 25,
   "id": "8740ebd9-098a-4d37-8028-5566c602898e",
   "metadata": {},
   "outputs": [
    {
     "name": "stdout",
     "output_type": "stream",
     "text": [
      "150\n"
     ]
    }
   ],
   "source": [
    "# Example\n",
    "from functools import * \n",
    "l=sum([10,20,30,40,50]) \n",
    "# result=reduce(lambda x,y:x*y,l) \n",
    "print(l) "
   ]
  },
  {
   "cell_type": "code",
   "execution_count": 26,
   "id": "f2d8d7cd-30c6-4e92-bc04-199771ecb9b6",
   "metadata": {},
   "outputs": [
    {
     "name": "stdout",
     "output_type": "stream",
     "text": [
      "12000000\n"
     ]
    }
   ],
   "source": [
    "# Example\n",
    "from functools import * \n",
    "l=[10,20,30,40,50] \n",
    "result=reduce(lambda x,y:x*y,l) \n",
    "print(result)"
   ]
  },
  {
   "cell_type": "code",
   "execution_count": 27,
   "id": "80834c30-ab2c-4860-bf35-101f0e7eba4c",
   "metadata": {},
   "outputs": [
    {
     "name": "stdout",
     "output_type": "stream",
     "text": [
      "5050\n"
     ]
    }
   ],
   "source": [
    "# Example\n",
    "from functools import * \n",
    "result=reduce(lambda x,y:x+y,range(1,101)) \n",
    "print(result) "
   ]
  },
  {
   "cell_type": "markdown",
   "id": "e3f0c85b-e526-4fe8-851e-18d7cffd9202",
   "metadata": {},
   "source": [
    "# Function Aliasing \n",
    "For the existing function we can give another name, which is nothing but function aliasing."
   ]
  },
  {
   "cell_type": "code",
   "execution_count": 29,
   "id": "926a27ba-e00d-4c2f-bb97-758d6109cb18",
   "metadata": {},
   "outputs": [
    {
     "name": "stdout",
     "output_type": "stream",
     "text": [
      "2896474048608\n",
      "2896474048608\n",
      "Good Morning: Saif\n",
      "Good Morning: Saif\n"
     ]
    }
   ],
   "source": [
    "# Example\n",
    "def wish(name): \n",
    "    print(\"Good Morning:\",name) \n",
    "greeting = wish \n",
    "print(id(wish)) \n",
    "print(id(greeting)) \n",
    "greeting('Saif') \n",
    "wish('Saif') "
   ]
  },
  {
   "cell_type": "markdown",
   "id": "1fbcadf4-4fa5-4dc7-b8d7-1a9881d9207e",
   "metadata": {},
   "source": [
    "# Nested Functions \n",
    "- We can declare a function inside another function, such type of functions are called Nested functions. Where we have this type of requirement? \n",
    "- If a group of statements inside a function are repeatedly requires, then these group of statements we will define as inner function and we can call this inner function whenever need arises."
   ]
  },
  {
   "cell_type": "code",
   "execution_count": 30,
   "id": "85791662-bb30-4ffc-ac81-0da0b6a61386",
   "metadata": {},
   "outputs": [
    {
     "name": "stdout",
     "output_type": "stream",
     "text": [
      "inner function execution\n",
      "outer function calling inner function\n",
      "outer function started\n"
     ]
    }
   ],
   "source": [
    "# Example 1\n",
    "def outer(): \n",
    "    print(\"outer function started\") \n",
    "def inner(): \n",
    "    print(\"inner function execution\")    \n",
    "    print(\"outer function calling inner function\") \n",
    "inner()            \n",
    "outer() "
   ]
  },
  {
   "cell_type": "code",
   "execution_count": 32,
   "id": "b9b89d42-24f6-4b87-9fa8-ec4e184a7d40",
   "metadata": {},
   "outputs": [
    {
     "name": "stdout",
     "output_type": "stream",
     "text": [
      "The Sum : 30\n",
      "The Average : 15.0\n",
      "The Sum : 50\n",
      "The Average : 25.0\n",
      "The Sum : 90\n",
      "The Average : 45.0\n",
      "The Sum : 300\n",
      "The Average : 150.0\n"
     ]
    }
   ],
   "source": [
    "# Example 2\n",
    "def f1(): \n",
    "    def inner(a,b): \n",
    "        print('The Sum :',a+b) \n",
    "        print('The Average :',(a+b)/2) \n",
    "    inner(10,20) \n",
    "    inner(20,30) \n",
    "    inner(40,50) \n",
    "    inner(100,200) \n",
    "f1()"
   ]
  },
  {
   "cell_type": "markdown",
   "id": "763c3e5e-08da-4877-8fb3-edd760440b91",
   "metadata": {},
   "source": [
    "# Fruitful functions and void functions \n",
    "- Some of the functions we are using, such as the math functions, which yield results, we call them as fruitful functions. \n",
    "- Other functions, like print_twice(), perform an action but don‟t return a value. They are called void functions. \n",
    "- When you call a fruitful function, you almost always want to do something with the result;  \n",
    "- For example, you might assign it to a variable (or) use it as part of an expression. \n",
    "-     x = math.cos(radians) \n",
    "-     silver = (math.sqrt(5) + 1) / 2\n",
    "- When you call a function in interactive mode, Python displays the result: \n",
    "- >math.sqrt(5) \n",
    "- 2.23606797749979 \n",
    "- But in a script, if you call a fruitful function and do not store the result of the function in a variable, the return value vanishes into the mist! \n",
    "- math.sqrt(5) \n",
    "- This script computes the square root of 5, but since it doesn‟t store the result in a variable or display the result, it is not very useful.\n",
    "-  Void functions might display something on the screen or have some other effect, but they don‟t have a return value. If you try to assign the result to a variable, you get a special value called None."
   ]
  },
  {
   "cell_type": "code",
   "execution_count": null,
   "id": "f92d911d-71fb-4cb1-86e4-cc327ffe5ef3",
   "metadata": {},
   "outputs": [],
   "source": []
  }
 ],
 "metadata": {
  "kernelspec": {
   "display_name": "Python 3 (ipykernel)",
   "language": "python",
   "name": "python3"
  },
  "language_info": {
   "codemirror_mode": {
    "name": "ipython",
    "version": 3
   },
   "file_extension": ".py",
   "mimetype": "text/x-python",
   "name": "python",
   "nbconvert_exporter": "python",
   "pygments_lexer": "ipython3",
   "version": "3.13.4"
  }
 },
 "nbformat": 4,
 "nbformat_minor": 5
}
