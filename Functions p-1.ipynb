{
 "cells": [
  {
   "cell_type": "code",
   "execution_count": 2,
   "id": "2799ca70-c1b0-476e-9aba-71eaded103d0",
   "metadata": {},
   "outputs": [
    {
     "name": "stdout",
     "output_type": "stream",
     "text": [
      "Hello, welcome to Python!\n"
     ]
    }
   ],
   "source": [
    "# Example\n",
    "def greet():\n",
    "    print(\"Hello, welcome to Python!\")\n",
    "greet()"
   ]
  },
  {
   "cell_type": "code",
   "execution_count": 15,
   "id": "4ca4516f-6196-40ac-8636-8ef7d0c42c84",
   "metadata": {},
   "outputs": [
    {
     "name": "stdout",
     "output_type": "stream",
     "text": [
      "Sum: 15\n"
     ]
    }
   ],
   "source": [
    "# Example \n",
    "def add(a, b):\n",
    "    return a + b\n",
    "result = add(10, 5)\n",
    "print(\"Sum:\", result)"
   ]
  },
  {
   "cell_type": "markdown",
   "id": "1a39c4b5-f73e-4794-8c5a-05511c26f21a",
   "metadata": {},
   "source": [
    "Function With Return Value"
   ]
  },
  {
   "cell_type": "code",
   "execution_count": 3,
   "id": "19886644-6ab8-4bee-80f1-e559e61d1217",
   "metadata": {},
   "outputs": [
    {
     "name": "stdout",
     "output_type": "stream",
     "text": [
      "Hello, Saif!\n"
     ]
    }
   ],
   "source": [
    "# Example 2\n",
    "def greet_user(name):\n",
    "    print(f\"Hello, {name}!\")\n",
    "greet_user(\"Saif\")"
   ]
  },
  {
   "cell_type": "markdown",
   "id": "f32f4158-2973-4867-a14a-bf0e331a1f32",
   "metadata": {},
   "source": [
    "Function With Default Argument"
   ]
  },
  {
   "cell_type": "code",
   "execution_count": 6,
   "id": "bcacf78e-fd0b-4e7a-b17e-7e8838eef4c6",
   "metadata": {},
   "outputs": [
    {
     "name": "stdout",
     "output_type": "stream",
     "text": [
      "Hello, Guest!\n",
      "Hello, Saif!\n"
     ]
    }
   ],
   "source": [
    "# Example\n",
    "def greet(name=\"Guest\"):\n",
    "    print(f\"Hello, {name}!\")\n",
    "greet()\n",
    "greet(\"Saif\")\n"
   ]
  },
  {
   "cell_type": "markdown",
   "id": "e2d7674b-b9b1-4008-9851-24ddf1820798",
   "metadata": {},
   "source": [
    "Function With Multiple Parameters"
   ]
  },
  {
   "cell_type": "code",
   "execution_count": 10,
   "id": "ba7c8a76-607a-4a4c-9f00-f79b316182cd",
   "metadata": {},
   "outputs": [
    {
     "name": "stdout",
     "output_type": "stream",
     "text": [
      "Product: 12\n"
     ]
    }
   ],
   "source": [
    "# Example\n",
    "def multiply(x, y):\n",
    "    return x * y\n",
    "print(\"Product:\", multiply(3, 4))"
   ]
  },
  {
   "cell_type": "markdown",
   "id": "5903a788-c4b8-4e0d-909a-110aeb489c1c",
   "metadata": {},
   "source": [
    "Function That Returns Multiple Values"
   ]
  },
  {
   "cell_type": "code",
   "execution_count": 11,
   "id": "2a147885-2a8c-4152-b30a-3f13f1ba395a",
   "metadata": {},
   "outputs": [
    {
     "name": "stdout",
     "output_type": "stream",
     "text": [
      "Sum: 15\n",
      "Difference: 5\n",
      "Product: 50\n"
     ]
    }
   ],
   "source": [
    "# Example\n",
    "def calculate(a, b):\n",
    "    return a + b, a - b, a * b\n",
    "sum_, diff, prod = calculate(10, 5)\n",
    "print(\"Sum:\", sum_)\n",
    "print(\"Difference:\", diff)\n",
    "print(\"Product:\", prod)"
   ]
  },
  {
   "cell_type": "markdown",
   "id": "f562b944-14f2-40ee-8449-a9d94920ff37",
   "metadata": {},
   "source": [
    " Function With Keyword Arguments"
   ]
  },
  {
   "cell_type": "code",
   "execution_count": 12,
   "id": "7c15d036-8375-4069-8cfd-dadc81e63b40",
   "metadata": {},
   "outputs": [
    {
     "name": "stdout",
     "output_type": "stream",
     "text": [
      "Name: Saif, Age: 20\n"
     ]
    }
   ],
   "source": [
    "# Example\n",
    "def user_info(name, age):\n",
    "    print(f\"Name: {name}, Age: {age}\")\n",
    "user_info(age=20, name=\"Saif\")"
   ]
  },
  {
   "cell_type": "markdown",
   "id": "204cd84b-714c-47e8-9608-87d0b743efdc",
   "metadata": {},
   "source": [
    "Function With Variable Number of Arguments"
   ]
  },
  {
   "cell_type": "code",
   "execution_count": 14,
   "id": "d9e33383-1351-4fac-917d-cd3e2618ef11",
   "metadata": {},
   "outputs": [
    {
     "name": "stdout",
     "output_type": "stream",
     "text": [
      "Total: 30\n"
     ]
    }
   ],
   "source": [
    "# Example\n",
    "def total(*numbers):\n",
    "    return sum(numbers)\n",
    "print(\"Total:\", total(5, 10, 15))"
   ]
  },
  {
   "cell_type": "markdown",
   "id": "1e6d7d7e-03dc-4e5c-9efb-578ad300c8cc",
   "metadata": {},
   "source": [
    "Function Inside Another Function (Nested Function)"
   ]
  },
  {
   "cell_type": "code",
   "execution_count": 16,
   "id": "0fd693d4-3e23-4e4a-9300-f9cf0837bcdf",
   "metadata": {},
   "outputs": [
    {
     "name": "stdout",
     "output_type": "stream",
     "text": [
      "Hello from inner function!\n"
     ]
    }
   ],
   "source": [
    "# Example\n",
    "def outer():\n",
    "    def inner():\n",
    "        print(\"Hello from inner function!\")\n",
    "    inner()\n",
    "outer()"
   ]
  },
  {
   "cell_type": "markdown",
   "id": "779e8935-43bd-4cac-9dc0-722441c82af6",
   "metadata": {},
   "source": [
    "# Lambda Function (Anonymous Function)\n",
    "Syntax :-\n",
    "- lambda arguments: expression\n"
   ]
  },
  {
   "cell_type": "code",
   "execution_count": 17,
   "id": "dca05e86-66ec-4a85-b7af-04678c24d4ec",
   "metadata": {},
   "outputs": [
    {
     "name": "stdout",
     "output_type": "stream",
     "text": [
      "Square of 6 is 36\n"
     ]
    }
   ],
   "source": [
    "# Example\n",
    "square = lambda x: x * x\n",
    "print(\"Square of 6 is\", square(6))"
   ]
  },
  {
   "cell_type": "code",
   "execution_count": 21,
   "id": "c4191d16-9eb4-490f-aabf-b1af99656019",
   "metadata": {},
   "outputs": [
    {
     "name": "stdout",
     "output_type": "stream",
     "text": [
      "saif\n"
     ]
    }
   ],
   "source": [
    "def f1():\n",
    "    print('saif')\n",
    "f1()"
   ]
  },
  {
   "cell_type": "code",
   "execution_count": 26,
   "id": "b127d982-1e02-47cc-b06a-4f7920e4a59b",
   "metadata": {},
   "outputs": [
    {
     "name": "stdout",
     "output_type": "stream",
     "text": [
      "30\n"
     ]
    }
   ],
   "source": [
    "def f1(a,b):\n",
    "    return a+b\n",
    "print(add(10,20))"
   ]
  },
  {
   "cell_type": "code",
   "execution_count": 30,
   "id": "ea5e16ea-53cf-4583-81d9-16fa3705b44a",
   "metadata": {},
   "outputs": [
    {
     "name": "stdout",
     "output_type": "stream",
     "text": [
      "even\n"
     ]
    }
   ],
   "source": [
    "def even_odd(n):\n",
    "    if n% 2 ==0:\n",
    "        return 'even'\n",
    "    else:\n",
    "        return 'odd'\n",
    "print(even_odd(8))"
   ]
  },
  {
   "cell_type": "code",
   "execution_count": 32,
   "id": "5e7d7201-b2bf-4850-98e7-0b2410e47ef0",
   "metadata": {},
   "outputs": [
    {
     "name": "stdout",
     "output_type": "stream",
     "text": [
      "100\n"
     ]
    }
   ],
   "source": [
    "def max_num(a,b,c):\n",
    "    return max(a,b,c)\n",
    "print(max_num(100,29,30))"
   ]
  },
  {
   "cell_type": "code",
   "execution_count": 40,
   "id": "79f1c44d-59d9-427e-a589-c09bff9cab51",
   "metadata": {},
   "outputs": [
    {
     "name": "stdout",
     "output_type": "stream",
     "text": [
      "6 x 1 = 6\n",
      "6 x 2 = 12\n",
      "6 x 3 = 18\n",
      "6 x 4 = 24\n",
      "6 x 5 = 30\n",
      "6 x 6 = 36\n",
      "6 x 7 = 42\n",
      "6 x 8 = 48\n",
      "6 x 9 = 54\n",
      "6 x 10 = 60\n"
     ]
    }
   ],
   "source": [
    "def multipication(n):\n",
    "    for i in range(1,11):\n",
    "        print(f'{n} x {i} = {n*i}')\n",
    "multipication(6)"
   ]
  },
  {
   "cell_type": "markdown",
   "id": "b6f1ea2d-69fa-4fcb-9e1b-f974131ce8a9",
   "metadata": {},
   "source": [
    "Factorial of a number"
   ]
  },
  {
   "cell_type": "code",
   "execution_count": 43,
   "id": "2d01fc50-430e-4be0-bd98-04f44ce90c41",
   "metadata": {},
   "outputs": [
    {
     "name": "stdout",
     "output_type": "stream",
     "text": [
      "120\n"
     ]
    }
   ],
   "source": [
    "def factorial(n):\n",
    "    result = 1\n",
    "    for i in range(1, n+1):\n",
    "        result *= i\n",
    "    return result\n",
    "print(factorial(5))"
   ]
  },
  {
   "cell_type": "markdown",
   "id": "eddd766f-1879-493f-9e7c-935a9719f244",
   "metadata": {},
   "source": [
    "Nth Fibonacci number"
   ]
  },
  {
   "cell_type": "code",
   "execution_count": 45,
   "id": "fb4d7221-4037-4eb8-8314-285094f7326c",
   "metadata": {},
   "outputs": [
    {
     "name": "stdout",
     "output_type": "stream",
     "text": [
      "8\n"
     ]
    }
   ],
   "source": [
    "def fibonacci(n):\n",
    "    if n <= 1:\n",
    "        return n\n",
    "    return fibonacci(n-1) + fibonacci(n-2)\n",
    "print(fibonacci(6))"
   ]
  },
  {
   "cell_type": "markdown",
   "id": "99ce5a61-5439-4ce2-8ac7-3277148364a6",
   "metadata": {},
   "source": [
    "Palindrome"
   ]
  },
  {
   "cell_type": "code",
   "execution_count": 46,
   "id": "93e70284-4ca2-4766-984c-fda5889a5dc6",
   "metadata": {},
   "outputs": [
    {
     "name": "stdout",
     "output_type": "stream",
     "text": [
      "True\n"
     ]
    }
   ],
   "source": [
    "def palindrome(s):\n",
    "    return s == s[::-1]\n",
    "print(palindrome(\"pop\"))"
   ]
  }
 ],
 "metadata": {
  "kernelspec": {
   "display_name": "Python 3 (ipykernel)",
   "language": "python",
   "name": "python3"
  },
  "language_info": {
   "codemirror_mode": {
    "name": "ipython",
    "version": 3
   },
   "file_extension": ".py",
   "mimetype": "text/x-python",
   "name": "python",
   "nbconvert_exporter": "python",
   "pygments_lexer": "ipython3",
   "version": "3.13.4"
  }
 },
 "nbformat": 4,
 "nbformat_minor": 5
}
